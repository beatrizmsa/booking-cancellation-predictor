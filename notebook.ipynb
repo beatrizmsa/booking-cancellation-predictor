{
 "cells": [
  {
   "cell_type": "code",
   "outputs": [],
   "source": [
    "import pandas as pd\n",
    "import numpy as np\n",
    "import matplotlib.pyplot as plt\n",
    "import seaborn as sns"
   ],
   "metadata": {
    "collapsed": false,
    "ExecuteTime": {
     "end_time": "2024-10-15T18:24:39.479181Z",
     "start_time": "2024-10-15T18:24:39.371667400Z"
    }
   },
   "id": "initial_id",
   "execution_count": 4
  },
  {
   "cell_type": "code",
   "outputs": [],
   "source": [
    "data = pd.read_csv('hotel_booking.csv')"
   ],
   "metadata": {
    "collapsed": false,
    "ExecuteTime": {
     "end_time": "2024-10-15T18:24:40.134876300Z",
     "start_time": "2024-10-15T18:24:39.377184900Z"
    }
   },
   "id": "d5676237e935485f",
   "execution_count": 5
  },
  {
   "cell_type": "markdown",
   "source": [
    "## Data exploration and preparation"
   ],
   "metadata": {
    "collapsed": false
   },
   "id": "1fe7c21959168629"
  },
  {
   "cell_type": "markdown",
   "source": [
    "### Data exploration"
   ],
   "metadata": {
    "collapsed": false
   },
   "id": "b3b9c6a914fcce27"
  },
  {
   "cell_type": "code",
   "outputs": [
    {
     "data": {
      "text/plain": "               hotel  is_canceled  lead_time  arrival_date_year  \\\n0       Resort Hotel            0        342               2015   \n1       Resort Hotel            0        737               2015   \n2       Resort Hotel            0          7               2015   \n3       Resort Hotel            0         13               2015   \n4       Resort Hotel            0         14               2015   \n...              ...          ...        ...                ...   \n119385    City Hotel            0         23               2017   \n119386    City Hotel            0        102               2017   \n119387    City Hotel            0         34               2017   \n119388    City Hotel            0        109               2017   \n119389    City Hotel            0        205               2017   \n\n       arrival_date_month  arrival_date_week_number  \\\n0                    July                        27   \n1                    July                        27   \n2                    July                        27   \n3                    July                        27   \n4                    July                        27   \n...                   ...                       ...   \n119385             August                        35   \n119386             August                        35   \n119387             August                        35   \n119388             August                        35   \n119389             August                        35   \n\n        arrival_date_day_of_month  stays_in_weekend_nights  \\\n0                               1                        0   \n1                               1                        0   \n2                               1                        0   \n3                               1                        0   \n4                               1                        0   \n...                           ...                      ...   \n119385                         30                        2   \n119386                         31                        2   \n119387                         31                        2   \n119388                         31                        2   \n119389                         29                        2   \n\n        stays_in_week_nights  adults  ...  customer_type     adr  \\\n0                          0       2  ...      Transient    0.00   \n1                          0       2  ...      Transient    0.00   \n2                          1       1  ...      Transient   75.00   \n3                          1       1  ...      Transient   75.00   \n4                          2       2  ...      Transient   98.00   \n...                      ...     ...  ...            ...     ...   \n119385                     5       2  ...      Transient   96.14   \n119386                     5       3  ...      Transient  225.43   \n119387                     5       2  ...      Transient  157.71   \n119388                     5       2  ...      Transient  104.40   \n119389                     7       2  ...      Transient  151.20   \n\n       required_car_parking_spaces total_of_special_requests  \\\n0                                0                         0   \n1                                0                         0   \n2                                0                         0   \n3                                0                         0   \n4                                0                         1   \n...                            ...                       ...   \n119385                           0                         0   \n119386                           0                         2   \n119387                           0                         4   \n119388                           0                         0   \n119389                           0                         2   \n\n       reservation_status reservation_status_date                name  \\\n0               Check-Out              2015-07-01       Ernest Barnes   \n1               Check-Out              2015-07-01        Andrea Baker   \n2               Check-Out              2015-07-02      Rebecca Parker   \n3               Check-Out              2015-07-02        Laura Murray   \n4               Check-Out              2015-07-03         Linda Hines   \n...                   ...                     ...                 ...   \n119385          Check-Out              2017-09-06     Claudia Johnson   \n119386          Check-Out              2017-09-07      Wesley Aguilar   \n119387          Check-Out              2017-09-07        Mary Morales   \n119388          Check-Out              2017-09-07  Caroline Conley MD   \n119389          Check-Out              2017-09-07      Ariana Michael   \n\n                              email  phone-number       credit_card  \n0       Ernest.Barnes31@outlook.com  669-792-1661  ************4322  \n1            Andrea_Baker94@aol.com  858-637-6955  ************9157  \n2        Rebecca_Parker@comcast.net  652-885-2745  ************3734  \n3                 Laura_M@gmail.com  364-656-8427  ************5677  \n4                LHines@verizon.com  713-226-5883  ************5498  \n...                             ...           ...               ...  \n119385          Claudia.J@yahoo.com  403-092-5582  ************8647  \n119386         WAguilar@xfinity.com  238-763-0612  ************4333  \n119387     Mary_Morales@hotmail.com  395-518-4100  ************1821  \n119388      MD_Caroline@comcast.net  531-528-1017  ************7860  \n119389         Ariana_M@xfinity.com  422-804-6403  ************4482  \n\n[119390 rows x 36 columns]",
      "text/html": "<div>\n<style scoped>\n    .dataframe tbody tr th:only-of-type {\n        vertical-align: middle;\n    }\n\n    .dataframe tbody tr th {\n        vertical-align: top;\n    }\n\n    .dataframe thead th {\n        text-align: right;\n    }\n</style>\n<table border=\"1\" class=\"dataframe\">\n  <thead>\n    <tr style=\"text-align: right;\">\n      <th></th>\n      <th>hotel</th>\n      <th>is_canceled</th>\n      <th>lead_time</th>\n      <th>arrival_date_year</th>\n      <th>arrival_date_month</th>\n      <th>arrival_date_week_number</th>\n      <th>arrival_date_day_of_month</th>\n      <th>stays_in_weekend_nights</th>\n      <th>stays_in_week_nights</th>\n      <th>adults</th>\n      <th>...</th>\n      <th>customer_type</th>\n      <th>adr</th>\n      <th>required_car_parking_spaces</th>\n      <th>total_of_special_requests</th>\n      <th>reservation_status</th>\n      <th>reservation_status_date</th>\n      <th>name</th>\n      <th>email</th>\n      <th>phone-number</th>\n      <th>credit_card</th>\n    </tr>\n  </thead>\n  <tbody>\n    <tr>\n      <th>0</th>\n      <td>Resort Hotel</td>\n      <td>0</td>\n      <td>342</td>\n      <td>2015</td>\n      <td>July</td>\n      <td>27</td>\n      <td>1</td>\n      <td>0</td>\n      <td>0</td>\n      <td>2</td>\n      <td>...</td>\n      <td>Transient</td>\n      <td>0.00</td>\n      <td>0</td>\n      <td>0</td>\n      <td>Check-Out</td>\n      <td>2015-07-01</td>\n      <td>Ernest Barnes</td>\n      <td>Ernest.Barnes31@outlook.com</td>\n      <td>669-792-1661</td>\n      <td>************4322</td>\n    </tr>\n    <tr>\n      <th>1</th>\n      <td>Resort Hotel</td>\n      <td>0</td>\n      <td>737</td>\n      <td>2015</td>\n      <td>July</td>\n      <td>27</td>\n      <td>1</td>\n      <td>0</td>\n      <td>0</td>\n      <td>2</td>\n      <td>...</td>\n      <td>Transient</td>\n      <td>0.00</td>\n      <td>0</td>\n      <td>0</td>\n      <td>Check-Out</td>\n      <td>2015-07-01</td>\n      <td>Andrea Baker</td>\n      <td>Andrea_Baker94@aol.com</td>\n      <td>858-637-6955</td>\n      <td>************9157</td>\n    </tr>\n    <tr>\n      <th>2</th>\n      <td>Resort Hotel</td>\n      <td>0</td>\n      <td>7</td>\n      <td>2015</td>\n      <td>July</td>\n      <td>27</td>\n      <td>1</td>\n      <td>0</td>\n      <td>1</td>\n      <td>1</td>\n      <td>...</td>\n      <td>Transient</td>\n      <td>75.00</td>\n      <td>0</td>\n      <td>0</td>\n      <td>Check-Out</td>\n      <td>2015-07-02</td>\n      <td>Rebecca Parker</td>\n      <td>Rebecca_Parker@comcast.net</td>\n      <td>652-885-2745</td>\n      <td>************3734</td>\n    </tr>\n    <tr>\n      <th>3</th>\n      <td>Resort Hotel</td>\n      <td>0</td>\n      <td>13</td>\n      <td>2015</td>\n      <td>July</td>\n      <td>27</td>\n      <td>1</td>\n      <td>0</td>\n      <td>1</td>\n      <td>1</td>\n      <td>...</td>\n      <td>Transient</td>\n      <td>75.00</td>\n      <td>0</td>\n      <td>0</td>\n      <td>Check-Out</td>\n      <td>2015-07-02</td>\n      <td>Laura Murray</td>\n      <td>Laura_M@gmail.com</td>\n      <td>364-656-8427</td>\n      <td>************5677</td>\n    </tr>\n    <tr>\n      <th>4</th>\n      <td>Resort Hotel</td>\n      <td>0</td>\n      <td>14</td>\n      <td>2015</td>\n      <td>July</td>\n      <td>27</td>\n      <td>1</td>\n      <td>0</td>\n      <td>2</td>\n      <td>2</td>\n      <td>...</td>\n      <td>Transient</td>\n      <td>98.00</td>\n      <td>0</td>\n      <td>1</td>\n      <td>Check-Out</td>\n      <td>2015-07-03</td>\n      <td>Linda Hines</td>\n      <td>LHines@verizon.com</td>\n      <td>713-226-5883</td>\n      <td>************5498</td>\n    </tr>\n    <tr>\n      <th>...</th>\n      <td>...</td>\n      <td>...</td>\n      <td>...</td>\n      <td>...</td>\n      <td>...</td>\n      <td>...</td>\n      <td>...</td>\n      <td>...</td>\n      <td>...</td>\n      <td>...</td>\n      <td>...</td>\n      <td>...</td>\n      <td>...</td>\n      <td>...</td>\n      <td>...</td>\n      <td>...</td>\n      <td>...</td>\n      <td>...</td>\n      <td>...</td>\n      <td>...</td>\n      <td>...</td>\n    </tr>\n    <tr>\n      <th>119385</th>\n      <td>City Hotel</td>\n      <td>0</td>\n      <td>23</td>\n      <td>2017</td>\n      <td>August</td>\n      <td>35</td>\n      <td>30</td>\n      <td>2</td>\n      <td>5</td>\n      <td>2</td>\n      <td>...</td>\n      <td>Transient</td>\n      <td>96.14</td>\n      <td>0</td>\n      <td>0</td>\n      <td>Check-Out</td>\n      <td>2017-09-06</td>\n      <td>Claudia Johnson</td>\n      <td>Claudia.J@yahoo.com</td>\n      <td>403-092-5582</td>\n      <td>************8647</td>\n    </tr>\n    <tr>\n      <th>119386</th>\n      <td>City Hotel</td>\n      <td>0</td>\n      <td>102</td>\n      <td>2017</td>\n      <td>August</td>\n      <td>35</td>\n      <td>31</td>\n      <td>2</td>\n      <td>5</td>\n      <td>3</td>\n      <td>...</td>\n      <td>Transient</td>\n      <td>225.43</td>\n      <td>0</td>\n      <td>2</td>\n      <td>Check-Out</td>\n      <td>2017-09-07</td>\n      <td>Wesley Aguilar</td>\n      <td>WAguilar@xfinity.com</td>\n      <td>238-763-0612</td>\n      <td>************4333</td>\n    </tr>\n    <tr>\n      <th>119387</th>\n      <td>City Hotel</td>\n      <td>0</td>\n      <td>34</td>\n      <td>2017</td>\n      <td>August</td>\n      <td>35</td>\n      <td>31</td>\n      <td>2</td>\n      <td>5</td>\n      <td>2</td>\n      <td>...</td>\n      <td>Transient</td>\n      <td>157.71</td>\n      <td>0</td>\n      <td>4</td>\n      <td>Check-Out</td>\n      <td>2017-09-07</td>\n      <td>Mary Morales</td>\n      <td>Mary_Morales@hotmail.com</td>\n      <td>395-518-4100</td>\n      <td>************1821</td>\n    </tr>\n    <tr>\n      <th>119388</th>\n      <td>City Hotel</td>\n      <td>0</td>\n      <td>109</td>\n      <td>2017</td>\n      <td>August</td>\n      <td>35</td>\n      <td>31</td>\n      <td>2</td>\n      <td>5</td>\n      <td>2</td>\n      <td>...</td>\n      <td>Transient</td>\n      <td>104.40</td>\n      <td>0</td>\n      <td>0</td>\n      <td>Check-Out</td>\n      <td>2017-09-07</td>\n      <td>Caroline Conley MD</td>\n      <td>MD_Caroline@comcast.net</td>\n      <td>531-528-1017</td>\n      <td>************7860</td>\n    </tr>\n    <tr>\n      <th>119389</th>\n      <td>City Hotel</td>\n      <td>0</td>\n      <td>205</td>\n      <td>2017</td>\n      <td>August</td>\n      <td>35</td>\n      <td>29</td>\n      <td>2</td>\n      <td>7</td>\n      <td>2</td>\n      <td>...</td>\n      <td>Transient</td>\n      <td>151.20</td>\n      <td>0</td>\n      <td>2</td>\n      <td>Check-Out</td>\n      <td>2017-09-07</td>\n      <td>Ariana Michael</td>\n      <td>Ariana_M@xfinity.com</td>\n      <td>422-804-6403</td>\n      <td>************4482</td>\n    </tr>\n  </tbody>\n</table>\n<p>119390 rows × 36 columns</p>\n</div>"
     },
     "execution_count": 6,
     "metadata": {},
     "output_type": "execute_result"
    }
   ],
   "source": [
    "data"
   ],
   "metadata": {
    "collapsed": false,
    "ExecuteTime": {
     "end_time": "2024-10-15T18:24:40.272433300Z",
     "start_time": "2024-10-15T18:24:40.143876200Z"
    }
   },
   "id": "a5c5e1736db84cb6",
   "execution_count": 6
  },
  {
   "cell_type": "markdown",
   "source": [
    "Some columns have personal information that may not be useful for the analysis, such as the name of the person who made the reservation, the email, the phone number and the credit card number. This information does not provide any insights for predicting the cancellations, so we can drop these columns."
   ],
   "metadata": {
    "collapsed": false
   },
   "id": "3aac5b5591184057"
  },
  {
   "cell_type": "code",
   "execution_count": 7,
   "outputs": [
    {
     "name": "stdout",
     "output_type": "stream",
     "text": [
      "<class 'pandas.core.frame.DataFrame'>\n",
      "RangeIndex: 119390 entries, 0 to 119389\n",
      "Data columns (total 36 columns):\n",
      " #   Column                          Non-Null Count   Dtype  \n",
      "---  ------                          --------------   -----  \n",
      " 0   hotel                           119390 non-null  object \n",
      " 1   is_canceled                     119390 non-null  int64  \n",
      " 2   lead_time                       119390 non-null  int64  \n",
      " 3   arrival_date_year               119390 non-null  int64  \n",
      " 4   arrival_date_month              119390 non-null  object \n",
      " 5   arrival_date_week_number        119390 non-null  int64  \n",
      " 6   arrival_date_day_of_month       119390 non-null  int64  \n",
      " 7   stays_in_weekend_nights         119390 non-null  int64  \n",
      " 8   stays_in_week_nights            119390 non-null  int64  \n",
      " 9   adults                          119390 non-null  int64  \n",
      " 10  children                        119386 non-null  float64\n",
      " 11  babies                          119390 non-null  int64  \n",
      " 12  meal                            119390 non-null  object \n",
      " 13  country                         118902 non-null  object \n",
      " 14  market_segment                  119390 non-null  object \n",
      " 15  distribution_channel            119390 non-null  object \n",
      " 16  is_repeated_guest               119390 non-null  int64  \n",
      " 17  previous_cancellations          119390 non-null  int64  \n",
      " 18  previous_bookings_not_canceled  119390 non-null  int64  \n",
      " 19  reserved_room_type              119390 non-null  object \n",
      " 20  assigned_room_type              119390 non-null  object \n",
      " 21  booking_changes                 119390 non-null  int64  \n",
      " 22  deposit_type                    119390 non-null  object \n",
      " 23  agent                           103050 non-null  float64\n",
      " 24  company                         6797 non-null    float64\n",
      " 25  days_in_waiting_list            119390 non-null  int64  \n",
      " 26  customer_type                   119390 non-null  object \n",
      " 27  adr                             119390 non-null  float64\n",
      " 28  required_car_parking_spaces     119390 non-null  int64  \n",
      " 29  total_of_special_requests       119390 non-null  int64  \n",
      " 30  reservation_status              119390 non-null  object \n",
      " 31  reservation_status_date         119390 non-null  object \n",
      " 32  name                            119390 non-null  object \n",
      " 33  email                           119390 non-null  object \n",
      " 34  phone-number                    119390 non-null  object \n",
      " 35  credit_card                     119390 non-null  object \n",
      "dtypes: float64(4), int64(16), object(16)\n",
      "memory usage: 32.8+ MB\n"
     ]
    }
   ],
   "source": [
    "data.info()"
   ],
   "metadata": {
    "collapsed": false,
    "ExecuteTime": {
     "end_time": "2024-10-15T18:24:40.439656Z",
     "start_time": "2024-10-15T18:24:40.266432100Z"
    }
   },
   "id": "9d9b5f993c0fddbc"
  },
  {
   "cell_type": "markdown",
   "source": [
    "The dataset has 119390 rows and 36 columns.\n",
    "With the info method we can see that there are some missing values in the columns children, country and agent and company.\n",
    "We have 16 columns with type object, 16 columns with type int64 and 4 columns with type float64."
   ],
   "metadata": {
    "collapsed": false
   },
   "id": "195aefc9d147317c"
  },
  {
   "cell_type": "code",
   "execution_count": 8,
   "outputs": [
    {
     "data": {
      "text/plain": "         is_canceled      lead_time  arrival_date_year  \\\ncount  119390.000000  119390.000000      119390.000000   \nmean        0.370416     104.011416        2016.156554   \nstd         0.482918     106.863097           0.707476   \nmin         0.000000       0.000000        2015.000000   \n25%         0.000000      18.000000        2016.000000   \n50%         0.000000      69.000000        2016.000000   \n75%         1.000000     160.000000        2017.000000   \nmax         1.000000     737.000000        2017.000000   \n\n       arrival_date_week_number  arrival_date_day_of_month  \\\ncount             119390.000000              119390.000000   \nmean                  27.165173                  15.798241   \nstd                   13.605138                   8.780829   \nmin                    1.000000                   1.000000   \n25%                   16.000000                   8.000000   \n50%                   28.000000                  16.000000   \n75%                   38.000000                  23.000000   \nmax                   53.000000                  31.000000   \n\n       stays_in_weekend_nights  stays_in_week_nights         adults  \\\ncount            119390.000000         119390.000000  119390.000000   \nmean                  0.927599              2.500302       1.856403   \nstd                   0.998613              1.908286       0.579261   \nmin                   0.000000              0.000000       0.000000   \n25%                   0.000000              1.000000       2.000000   \n50%                   1.000000              2.000000       2.000000   \n75%                   2.000000              3.000000       2.000000   \nmax                  19.000000             50.000000      55.000000   \n\n            children         babies  is_repeated_guest  \\\ncount  119386.000000  119390.000000      119390.000000   \nmean        0.103890       0.007949           0.031912   \nstd         0.398561       0.097436           0.175767   \nmin         0.000000       0.000000           0.000000   \n25%         0.000000       0.000000           0.000000   \n50%         0.000000       0.000000           0.000000   \n75%         0.000000       0.000000           0.000000   \nmax        10.000000      10.000000           1.000000   \n\n       previous_cancellations  previous_bookings_not_canceled  \\\ncount           119390.000000                   119390.000000   \nmean                 0.087118                        0.137097   \nstd                  0.844336                        1.497437   \nmin                  0.000000                        0.000000   \n25%                  0.000000                        0.000000   \n50%                  0.000000                        0.000000   \n75%                  0.000000                        0.000000   \nmax                 26.000000                       72.000000   \n\n       booking_changes          agent      company  days_in_waiting_list  \\\ncount    119390.000000  103050.000000  6797.000000         119390.000000   \nmean          0.221124      86.693382   189.266735              2.321149   \nstd           0.652306     110.774548   131.655015             17.594721   \nmin           0.000000       1.000000     6.000000              0.000000   \n25%           0.000000       9.000000    62.000000              0.000000   \n50%           0.000000      14.000000   179.000000              0.000000   \n75%           0.000000     229.000000   270.000000              0.000000   \nmax          21.000000     535.000000   543.000000            391.000000   \n\n                 adr  required_car_parking_spaces  total_of_special_requests  \ncount  119390.000000                119390.000000              119390.000000  \nmean      101.831122                     0.062518                   0.571363  \nstd        50.535790                     0.245291                   0.792798  \nmin        -6.380000                     0.000000                   0.000000  \n25%        69.290000                     0.000000                   0.000000  \n50%        94.575000                     0.000000                   0.000000  \n75%       126.000000                     0.000000                   1.000000  \nmax      5400.000000                     8.000000                   5.000000  ",
      "text/html": "<div>\n<style scoped>\n    .dataframe tbody tr th:only-of-type {\n        vertical-align: middle;\n    }\n\n    .dataframe tbody tr th {\n        vertical-align: top;\n    }\n\n    .dataframe thead th {\n        text-align: right;\n    }\n</style>\n<table border=\"1\" class=\"dataframe\">\n  <thead>\n    <tr style=\"text-align: right;\">\n      <th></th>\n      <th>is_canceled</th>\n      <th>lead_time</th>\n      <th>arrival_date_year</th>\n      <th>arrival_date_week_number</th>\n      <th>arrival_date_day_of_month</th>\n      <th>stays_in_weekend_nights</th>\n      <th>stays_in_week_nights</th>\n      <th>adults</th>\n      <th>children</th>\n      <th>babies</th>\n      <th>is_repeated_guest</th>\n      <th>previous_cancellations</th>\n      <th>previous_bookings_not_canceled</th>\n      <th>booking_changes</th>\n      <th>agent</th>\n      <th>company</th>\n      <th>days_in_waiting_list</th>\n      <th>adr</th>\n      <th>required_car_parking_spaces</th>\n      <th>total_of_special_requests</th>\n    </tr>\n  </thead>\n  <tbody>\n    <tr>\n      <th>count</th>\n      <td>119390.000000</td>\n      <td>119390.000000</td>\n      <td>119390.000000</td>\n      <td>119390.000000</td>\n      <td>119390.000000</td>\n      <td>119390.000000</td>\n      <td>119390.000000</td>\n      <td>119390.000000</td>\n      <td>119386.000000</td>\n      <td>119390.000000</td>\n      <td>119390.000000</td>\n      <td>119390.000000</td>\n      <td>119390.000000</td>\n      <td>119390.000000</td>\n      <td>103050.000000</td>\n      <td>6797.000000</td>\n      <td>119390.000000</td>\n      <td>119390.000000</td>\n      <td>119390.000000</td>\n      <td>119390.000000</td>\n    </tr>\n    <tr>\n      <th>mean</th>\n      <td>0.370416</td>\n      <td>104.011416</td>\n      <td>2016.156554</td>\n      <td>27.165173</td>\n      <td>15.798241</td>\n      <td>0.927599</td>\n      <td>2.500302</td>\n      <td>1.856403</td>\n      <td>0.103890</td>\n      <td>0.007949</td>\n      <td>0.031912</td>\n      <td>0.087118</td>\n      <td>0.137097</td>\n      <td>0.221124</td>\n      <td>86.693382</td>\n      <td>189.266735</td>\n      <td>2.321149</td>\n      <td>101.831122</td>\n      <td>0.062518</td>\n      <td>0.571363</td>\n    </tr>\n    <tr>\n      <th>std</th>\n      <td>0.482918</td>\n      <td>106.863097</td>\n      <td>0.707476</td>\n      <td>13.605138</td>\n      <td>8.780829</td>\n      <td>0.998613</td>\n      <td>1.908286</td>\n      <td>0.579261</td>\n      <td>0.398561</td>\n      <td>0.097436</td>\n      <td>0.175767</td>\n      <td>0.844336</td>\n      <td>1.497437</td>\n      <td>0.652306</td>\n      <td>110.774548</td>\n      <td>131.655015</td>\n      <td>17.594721</td>\n      <td>50.535790</td>\n      <td>0.245291</td>\n      <td>0.792798</td>\n    </tr>\n    <tr>\n      <th>min</th>\n      <td>0.000000</td>\n      <td>0.000000</td>\n      <td>2015.000000</td>\n      <td>1.000000</td>\n      <td>1.000000</td>\n      <td>0.000000</td>\n      <td>0.000000</td>\n      <td>0.000000</td>\n      <td>0.000000</td>\n      <td>0.000000</td>\n      <td>0.000000</td>\n      <td>0.000000</td>\n      <td>0.000000</td>\n      <td>0.000000</td>\n      <td>1.000000</td>\n      <td>6.000000</td>\n      <td>0.000000</td>\n      <td>-6.380000</td>\n      <td>0.000000</td>\n      <td>0.000000</td>\n    </tr>\n    <tr>\n      <th>25%</th>\n      <td>0.000000</td>\n      <td>18.000000</td>\n      <td>2016.000000</td>\n      <td>16.000000</td>\n      <td>8.000000</td>\n      <td>0.000000</td>\n      <td>1.000000</td>\n      <td>2.000000</td>\n      <td>0.000000</td>\n      <td>0.000000</td>\n      <td>0.000000</td>\n      <td>0.000000</td>\n      <td>0.000000</td>\n      <td>0.000000</td>\n      <td>9.000000</td>\n      <td>62.000000</td>\n      <td>0.000000</td>\n      <td>69.290000</td>\n      <td>0.000000</td>\n      <td>0.000000</td>\n    </tr>\n    <tr>\n      <th>50%</th>\n      <td>0.000000</td>\n      <td>69.000000</td>\n      <td>2016.000000</td>\n      <td>28.000000</td>\n      <td>16.000000</td>\n      <td>1.000000</td>\n      <td>2.000000</td>\n      <td>2.000000</td>\n      <td>0.000000</td>\n      <td>0.000000</td>\n      <td>0.000000</td>\n      <td>0.000000</td>\n      <td>0.000000</td>\n      <td>0.000000</td>\n      <td>14.000000</td>\n      <td>179.000000</td>\n      <td>0.000000</td>\n      <td>94.575000</td>\n      <td>0.000000</td>\n      <td>0.000000</td>\n    </tr>\n    <tr>\n      <th>75%</th>\n      <td>1.000000</td>\n      <td>160.000000</td>\n      <td>2017.000000</td>\n      <td>38.000000</td>\n      <td>23.000000</td>\n      <td>2.000000</td>\n      <td>3.000000</td>\n      <td>2.000000</td>\n      <td>0.000000</td>\n      <td>0.000000</td>\n      <td>0.000000</td>\n      <td>0.000000</td>\n      <td>0.000000</td>\n      <td>0.000000</td>\n      <td>229.000000</td>\n      <td>270.000000</td>\n      <td>0.000000</td>\n      <td>126.000000</td>\n      <td>0.000000</td>\n      <td>1.000000</td>\n    </tr>\n    <tr>\n      <th>max</th>\n      <td>1.000000</td>\n      <td>737.000000</td>\n      <td>2017.000000</td>\n      <td>53.000000</td>\n      <td>31.000000</td>\n      <td>19.000000</td>\n      <td>50.000000</td>\n      <td>55.000000</td>\n      <td>10.000000</td>\n      <td>10.000000</td>\n      <td>1.000000</td>\n      <td>26.000000</td>\n      <td>72.000000</td>\n      <td>21.000000</td>\n      <td>535.000000</td>\n      <td>543.000000</td>\n      <td>391.000000</td>\n      <td>5400.000000</td>\n      <td>8.000000</td>\n      <td>5.000000</td>\n    </tr>\n  </tbody>\n</table>\n</div>"
     },
     "execution_count": 8,
     "metadata": {},
     "output_type": "execute_result"
    }
   ],
   "source": [
    "data.describe()"
   ],
   "metadata": {
    "collapsed": false,
    "ExecuteTime": {
     "end_time": "2024-10-15T18:24:40.588195600Z",
     "start_time": "2024-10-15T18:24:40.385458300Z"
    }
   },
   "id": "b203f8ef4857cab4"
  },
  {
   "cell_type": "markdown",
   "source": [
    "This method provides statistics for the numerical columns, revealing that the values vary widely, with the smallest being -6.38 and the largest 5400. Such differences in ranges could impact model performance, suggesting the need for data normalization.\n",
    "Since there isn’t a large gap between the mean and median, we can assume the data is not significantly skewed.\n",
    "We will check these assumptions later with the help of visualizations."
   ],
   "metadata": {
    "collapsed": false
   },
   "id": "3ede56483d1bf8fd"
  },
  {
   "cell_type": "code",
   "execution_count": 9,
   "outputs": [
    {
     "data": {
      "text/plain": "             hotel arrival_date_month    meal country market_segment  \\\ncount       119390             119390  119390  118902         119390   \nunique           2                 12       5     177              8   \ntop     City Hotel             August      BB     PRT      Online TA   \nfreq         79330              13877   92310   48590          56477   \n\n       distribution_channel reserved_room_type assigned_room_type  \\\ncount                119390             119390             119390   \nunique                    5                 10                 12   \ntop                   TA/TO                  A                  A   \nfreq                  97870              85994              74053   \n\n       deposit_type customer_type reservation_status reservation_status_date  \\\ncount        119390        119390             119390                  119390   \nunique            3             4                  3                     926   \ntop      No Deposit     Transient          Check-Out              2015-10-21   \nfreq         104641         89613              75166                    1461   \n\n                name                email  phone-number       credit_card  \ncount         119390               119390        119390            119390  \nunique         81503               115889        119390              9000  \ntop     Robert Smith  Michael.C@gmail.com  422-804-6403  ************3627  \nfreq              48                    6             1                28  ",
      "text/html": "<div>\n<style scoped>\n    .dataframe tbody tr th:only-of-type {\n        vertical-align: middle;\n    }\n\n    .dataframe tbody tr th {\n        vertical-align: top;\n    }\n\n    .dataframe thead th {\n        text-align: right;\n    }\n</style>\n<table border=\"1\" class=\"dataframe\">\n  <thead>\n    <tr style=\"text-align: right;\">\n      <th></th>\n      <th>hotel</th>\n      <th>arrival_date_month</th>\n      <th>meal</th>\n      <th>country</th>\n      <th>market_segment</th>\n      <th>distribution_channel</th>\n      <th>reserved_room_type</th>\n      <th>assigned_room_type</th>\n      <th>deposit_type</th>\n      <th>customer_type</th>\n      <th>reservation_status</th>\n      <th>reservation_status_date</th>\n      <th>name</th>\n      <th>email</th>\n      <th>phone-number</th>\n      <th>credit_card</th>\n    </tr>\n  </thead>\n  <tbody>\n    <tr>\n      <th>count</th>\n      <td>119390</td>\n      <td>119390</td>\n      <td>119390</td>\n      <td>118902</td>\n      <td>119390</td>\n      <td>119390</td>\n      <td>119390</td>\n      <td>119390</td>\n      <td>119390</td>\n      <td>119390</td>\n      <td>119390</td>\n      <td>119390</td>\n      <td>119390</td>\n      <td>119390</td>\n      <td>119390</td>\n      <td>119390</td>\n    </tr>\n    <tr>\n      <th>unique</th>\n      <td>2</td>\n      <td>12</td>\n      <td>5</td>\n      <td>177</td>\n      <td>8</td>\n      <td>5</td>\n      <td>10</td>\n      <td>12</td>\n      <td>3</td>\n      <td>4</td>\n      <td>3</td>\n      <td>926</td>\n      <td>81503</td>\n      <td>115889</td>\n      <td>119390</td>\n      <td>9000</td>\n    </tr>\n    <tr>\n      <th>top</th>\n      <td>City Hotel</td>\n      <td>August</td>\n      <td>BB</td>\n      <td>PRT</td>\n      <td>Online TA</td>\n      <td>TA/TO</td>\n      <td>A</td>\n      <td>A</td>\n      <td>No Deposit</td>\n      <td>Transient</td>\n      <td>Check-Out</td>\n      <td>2015-10-21</td>\n      <td>Robert Smith</td>\n      <td>Michael.C@gmail.com</td>\n      <td>422-804-6403</td>\n      <td>************3627</td>\n    </tr>\n    <tr>\n      <th>freq</th>\n      <td>79330</td>\n      <td>13877</td>\n      <td>92310</td>\n      <td>48590</td>\n      <td>56477</td>\n      <td>97870</td>\n      <td>85994</td>\n      <td>74053</td>\n      <td>104641</td>\n      <td>89613</td>\n      <td>75166</td>\n      <td>1461</td>\n      <td>48</td>\n      <td>6</td>\n      <td>1</td>\n      <td>28</td>\n    </tr>\n  </tbody>\n</table>\n</div>"
     },
     "execution_count": 9,
     "metadata": {},
     "output_type": "execute_result"
    }
   ],
   "source": [
    "data.describe(include='object')"
   ],
   "metadata": {
    "collapsed": false,
    "ExecuteTime": {
     "end_time": "2024-10-15T18:24:41.332227500Z",
     "start_time": "2024-10-15T18:24:40.621212Z"
    }
   },
   "id": "6f8dd25c7e405226"
  },
  {
   "cell_type": "markdown",
   "source": [
    "For the object columns, we can see that the dataset has a range of unique values, from 2 to 119390. Columns with a high number of unique values or low frequency of the top value may not be useful for the analysis, so we can drop them. This reinforces the idea of dropping the columns with personal information."
   ],
   "metadata": {
    "collapsed": false
   },
   "id": "ba41fa1d0434985c"
  },
  {
   "cell_type": "code",
   "execution_count": 10,
   "outputs": [],
   "source": [
    "data.drop(columns=['name','email','phone-number','credit_card'], axis = 1, inplace=True)"
   ],
   "metadata": {
    "collapsed": false,
    "ExecuteTime": {
     "end_time": "2024-10-15T18:24:41.518893100Z",
     "start_time": "2024-10-15T18:24:41.320231900Z"
    }
   },
   "id": "f3d47ef83f824a34"
  },
  {
   "cell_type": "markdown",
   "source": [
    "### Dealing with missing values"
   ],
   "metadata": {
    "collapsed": false
   },
   "id": "784e5431956c34c1"
  },
  {
   "cell_type": "code",
   "execution_count": 11,
   "outputs": [
    {
     "data": {
      "text/plain": "children         4\ncountry        488\nagent        16340\ncompany     112593\ndtype: int64"
     },
     "execution_count": 11,
     "metadata": {},
     "output_type": "execute_result"
    }
   ],
   "source": [
    "data.isnull().sum()[data.isnull().sum() > 0]"
   ],
   "metadata": {
    "collapsed": false,
    "ExecuteTime": {
     "end_time": "2024-10-15T18:24:41.741470Z",
     "start_time": "2024-10-15T18:24:41.397149400Z"
    }
   },
   "id": "16f05856daff951b"
  },
  {
   "cell_type": "code",
   "execution_count": 12,
   "outputs": [
    {
     "data": {
      "text/plain": "children    0.000034\ncountry     0.004087\nagent       0.136862\ncompany     0.943069\ndtype: float64"
     },
     "execution_count": 12,
     "metadata": {},
     "output_type": "execute_result"
    }
   ],
   "source": [
    "data.isnull().sum()[data.isnull().sum() > 0]/len(data)"
   ],
   "metadata": {
    "collapsed": false,
    "ExecuteTime": {
     "end_time": "2024-10-15T18:24:41.992928400Z",
     "start_time": "2024-10-15T18:24:41.836473700Z"
    }
   },
   "id": "968516ff4e9ed4cf"
  },
  {
   "cell_type": "markdown",
   "source": [
    "Given the large number of missing values (94.3%) in the company column, we can drop it.\n",
    "The children and agent columns have a small number of missing values so we can fill them with 0, assuming that the missing values are due to the absence of children or agents.\n",
    "The country column has a small number of missing values, so we can fill them with the most frequent value.\n"
   ],
   "metadata": {
    "collapsed": false
   },
   "id": "de1237d14f2286ef"
  },
  {
   "cell_type": "code",
   "execution_count": 13,
   "outputs": [],
   "source": [
    "data.drop(columns=['company'], axis = 1, inplace=True)\n",
    "data[['children','agent']] = data[['children','agent']].fillna(0)\n",
    "data['country'] = data['country'].fillna(data['country'].mode())"
   ],
   "metadata": {
    "collapsed": false,
    "ExecuteTime": {
     "end_time": "2024-10-15T18:24:42.075841900Z",
     "start_time": "2024-10-15T18:24:41.979916300Z"
    }
   },
   "id": "60054ad825b73aed"
  },
  {
   "cell_type": "markdown",
   "source": [
    "Drop the rows that have a total of 0 nights booked and 0 guests and the duplicate rows."
   ],
   "metadata": {
    "collapsed": false
   },
   "id": "7faffde26ae000f3"
  },
  {
   "cell_type": "code",
   "execution_count": 14,
   "outputs": [],
   "source": [
    "data = data[data['stays_in_weekend_nights'] + data['stays_in_week_nights'] > 0]\n",
    "data = data[(data['adults'] + data['children'] + data['babies']) > 0]\n",
    "data = data.drop_duplicates()"
   ],
   "metadata": {
    "collapsed": false,
    "ExecuteTime": {
     "end_time": "2024-10-15T18:24:42.533882900Z",
     "start_time": "2024-10-15T18:24:42.082842300Z"
    }
   },
   "id": "89db84e527763d32"
  },
  {
   "cell_type": "code",
   "execution_count": 15,
   "outputs": [
    {
     "data": {
      "text/plain": "(86632, 31)"
     },
     "execution_count": 15,
     "metadata": {},
     "output_type": "execute_result"
    }
   ],
   "source": [
    "data.shape"
   ],
   "metadata": {
    "collapsed": false,
    "ExecuteTime": {
     "end_time": "2024-10-15T18:24:42.535879500Z",
     "start_time": "2024-10-15T18:24:42.525195700Z"
    }
   },
   "id": "6b294549a4821879"
  },
  {
   "cell_type": "code",
   "execution_count": 17,
   "outputs": [
    {
     "data": {
      "text/plain": "               hotel  is_canceled  lead_time  arrival_date_year  \\\n2       Resort Hotel            0          7               2015   \n3       Resort Hotel            0         13               2015   \n4       Resort Hotel            0         14               2015   \n6       Resort Hotel            0          0               2015   \n7       Resort Hotel            0          9               2015   \n...              ...          ...        ...                ...   \n119385    City Hotel            0         23               2017   \n119386    City Hotel            0        102               2017   \n119387    City Hotel            0         34               2017   \n119388    City Hotel            0        109               2017   \n119389    City Hotel            0        205               2017   \n\n       arrival_date_month  arrival_date_week_number  \\\n2                    July                        27   \n3                    July                        27   \n4                    July                        27   \n6                    July                        27   \n7                    July                        27   \n...                   ...                       ...   \n119385             August                        35   \n119386             August                        35   \n119387             August                        35   \n119388             August                        35   \n119389             August                        35   \n\n        arrival_date_day_of_month  stays_in_weekend_nights  \\\n2                               1                        0   \n3                               1                        0   \n4                               1                        0   \n6                               1                        0   \n7                               1                        0   \n...                           ...                      ...   \n119385                         30                        2   \n119386                         31                        2   \n119387                         31                        2   \n119388                         31                        2   \n119389                         29                        2   \n\n        stays_in_week_nights  adults  ...  booking_changes  deposit_type  \\\n2                          1       1  ...                0    No Deposit   \n3                          1       1  ...                0    No Deposit   \n4                          2       2  ...                0    No Deposit   \n6                          2       2  ...                0    No Deposit   \n7                          2       2  ...                0    No Deposit   \n...                      ...     ...  ...              ...           ...   \n119385                     5       2  ...                0    No Deposit   \n119386                     5       3  ...                0    No Deposit   \n119387                     5       2  ...                0    No Deposit   \n119388                     5       2  ...                0    No Deposit   \n119389                     7       2  ...                0    No Deposit   \n\n        agent days_in_waiting_list customer_type     adr  \\\n2         0.0                    0     Transient   75.00   \n3       304.0                    0     Transient   75.00   \n4       240.0                    0     Transient   98.00   \n6         0.0                    0     Transient  107.00   \n7       303.0                    0     Transient  103.00   \n...       ...                  ...           ...     ...   \n119385  394.0                    0     Transient   96.14   \n119386    9.0                    0     Transient  225.43   \n119387    9.0                    0     Transient  157.71   \n119388   89.0                    0     Transient  104.40   \n119389    9.0                    0     Transient  151.20   \n\n        required_car_parking_spaces  total_of_special_requests  \\\n2                                 0                          0   \n3                                 0                          0   \n4                                 0                          1   \n6                                 0                          0   \n7                                 0                          1   \n...                             ...                        ...   \n119385                            0                          0   \n119386                            0                          2   \n119387                            0                          4   \n119388                            0                          0   \n119389                            0                          2   \n\n        reservation_status reservation_status_date  \n2                Check-Out              2015-07-02  \n3                Check-Out              2015-07-02  \n4                Check-Out              2015-07-03  \n6                Check-Out              2015-07-03  \n7                Check-Out              2015-07-03  \n...                    ...                     ...  \n119385           Check-Out              2017-09-06  \n119386           Check-Out              2017-09-07  \n119387           Check-Out              2017-09-07  \n119388           Check-Out              2017-09-07  \n119389           Check-Out              2017-09-07  \n\n[86632 rows x 31 columns]",
      "text/html": "<div>\n<style scoped>\n    .dataframe tbody tr th:only-of-type {\n        vertical-align: middle;\n    }\n\n    .dataframe tbody tr th {\n        vertical-align: top;\n    }\n\n    .dataframe thead th {\n        text-align: right;\n    }\n</style>\n<table border=\"1\" class=\"dataframe\">\n  <thead>\n    <tr style=\"text-align: right;\">\n      <th></th>\n      <th>hotel</th>\n      <th>is_canceled</th>\n      <th>lead_time</th>\n      <th>arrival_date_year</th>\n      <th>arrival_date_month</th>\n      <th>arrival_date_week_number</th>\n      <th>arrival_date_day_of_month</th>\n      <th>stays_in_weekend_nights</th>\n      <th>stays_in_week_nights</th>\n      <th>adults</th>\n      <th>...</th>\n      <th>booking_changes</th>\n      <th>deposit_type</th>\n      <th>agent</th>\n      <th>days_in_waiting_list</th>\n      <th>customer_type</th>\n      <th>adr</th>\n      <th>required_car_parking_spaces</th>\n      <th>total_of_special_requests</th>\n      <th>reservation_status</th>\n      <th>reservation_status_date</th>\n    </tr>\n  </thead>\n  <tbody>\n    <tr>\n      <th>2</th>\n      <td>Resort Hotel</td>\n      <td>0</td>\n      <td>7</td>\n      <td>2015</td>\n      <td>July</td>\n      <td>27</td>\n      <td>1</td>\n      <td>0</td>\n      <td>1</td>\n      <td>1</td>\n      <td>...</td>\n      <td>0</td>\n      <td>No Deposit</td>\n      <td>0.0</td>\n      <td>0</td>\n      <td>Transient</td>\n      <td>75.00</td>\n      <td>0</td>\n      <td>0</td>\n      <td>Check-Out</td>\n      <td>2015-07-02</td>\n    </tr>\n    <tr>\n      <th>3</th>\n      <td>Resort Hotel</td>\n      <td>0</td>\n      <td>13</td>\n      <td>2015</td>\n      <td>July</td>\n      <td>27</td>\n      <td>1</td>\n      <td>0</td>\n      <td>1</td>\n      <td>1</td>\n      <td>...</td>\n      <td>0</td>\n      <td>No Deposit</td>\n      <td>304.0</td>\n      <td>0</td>\n      <td>Transient</td>\n      <td>75.00</td>\n      <td>0</td>\n      <td>0</td>\n      <td>Check-Out</td>\n      <td>2015-07-02</td>\n    </tr>\n    <tr>\n      <th>4</th>\n      <td>Resort Hotel</td>\n      <td>0</td>\n      <td>14</td>\n      <td>2015</td>\n      <td>July</td>\n      <td>27</td>\n      <td>1</td>\n      <td>0</td>\n      <td>2</td>\n      <td>2</td>\n      <td>...</td>\n      <td>0</td>\n      <td>No Deposit</td>\n      <td>240.0</td>\n      <td>0</td>\n      <td>Transient</td>\n      <td>98.00</td>\n      <td>0</td>\n      <td>1</td>\n      <td>Check-Out</td>\n      <td>2015-07-03</td>\n    </tr>\n    <tr>\n      <th>6</th>\n      <td>Resort Hotel</td>\n      <td>0</td>\n      <td>0</td>\n      <td>2015</td>\n      <td>July</td>\n      <td>27</td>\n      <td>1</td>\n      <td>0</td>\n      <td>2</td>\n      <td>2</td>\n      <td>...</td>\n      <td>0</td>\n      <td>No Deposit</td>\n      <td>0.0</td>\n      <td>0</td>\n      <td>Transient</td>\n      <td>107.00</td>\n      <td>0</td>\n      <td>0</td>\n      <td>Check-Out</td>\n      <td>2015-07-03</td>\n    </tr>\n    <tr>\n      <th>7</th>\n      <td>Resort Hotel</td>\n      <td>0</td>\n      <td>9</td>\n      <td>2015</td>\n      <td>July</td>\n      <td>27</td>\n      <td>1</td>\n      <td>0</td>\n      <td>2</td>\n      <td>2</td>\n      <td>...</td>\n      <td>0</td>\n      <td>No Deposit</td>\n      <td>303.0</td>\n      <td>0</td>\n      <td>Transient</td>\n      <td>103.00</td>\n      <td>0</td>\n      <td>1</td>\n      <td>Check-Out</td>\n      <td>2015-07-03</td>\n    </tr>\n    <tr>\n      <th>...</th>\n      <td>...</td>\n      <td>...</td>\n      <td>...</td>\n      <td>...</td>\n      <td>...</td>\n      <td>...</td>\n      <td>...</td>\n      <td>...</td>\n      <td>...</td>\n      <td>...</td>\n      <td>...</td>\n      <td>...</td>\n      <td>...</td>\n      <td>...</td>\n      <td>...</td>\n      <td>...</td>\n      <td>...</td>\n      <td>...</td>\n      <td>...</td>\n      <td>...</td>\n      <td>...</td>\n    </tr>\n    <tr>\n      <th>119385</th>\n      <td>City Hotel</td>\n      <td>0</td>\n      <td>23</td>\n      <td>2017</td>\n      <td>August</td>\n      <td>35</td>\n      <td>30</td>\n      <td>2</td>\n      <td>5</td>\n      <td>2</td>\n      <td>...</td>\n      <td>0</td>\n      <td>No Deposit</td>\n      <td>394.0</td>\n      <td>0</td>\n      <td>Transient</td>\n      <td>96.14</td>\n      <td>0</td>\n      <td>0</td>\n      <td>Check-Out</td>\n      <td>2017-09-06</td>\n    </tr>\n    <tr>\n      <th>119386</th>\n      <td>City Hotel</td>\n      <td>0</td>\n      <td>102</td>\n      <td>2017</td>\n      <td>August</td>\n      <td>35</td>\n      <td>31</td>\n      <td>2</td>\n      <td>5</td>\n      <td>3</td>\n      <td>...</td>\n      <td>0</td>\n      <td>No Deposit</td>\n      <td>9.0</td>\n      <td>0</td>\n      <td>Transient</td>\n      <td>225.43</td>\n      <td>0</td>\n      <td>2</td>\n      <td>Check-Out</td>\n      <td>2017-09-07</td>\n    </tr>\n    <tr>\n      <th>119387</th>\n      <td>City Hotel</td>\n      <td>0</td>\n      <td>34</td>\n      <td>2017</td>\n      <td>August</td>\n      <td>35</td>\n      <td>31</td>\n      <td>2</td>\n      <td>5</td>\n      <td>2</td>\n      <td>...</td>\n      <td>0</td>\n      <td>No Deposit</td>\n      <td>9.0</td>\n      <td>0</td>\n      <td>Transient</td>\n      <td>157.71</td>\n      <td>0</td>\n      <td>4</td>\n      <td>Check-Out</td>\n      <td>2017-09-07</td>\n    </tr>\n    <tr>\n      <th>119388</th>\n      <td>City Hotel</td>\n      <td>0</td>\n      <td>109</td>\n      <td>2017</td>\n      <td>August</td>\n      <td>35</td>\n      <td>31</td>\n      <td>2</td>\n      <td>5</td>\n      <td>2</td>\n      <td>...</td>\n      <td>0</td>\n      <td>No Deposit</td>\n      <td>89.0</td>\n      <td>0</td>\n      <td>Transient</td>\n      <td>104.40</td>\n      <td>0</td>\n      <td>0</td>\n      <td>Check-Out</td>\n      <td>2017-09-07</td>\n    </tr>\n    <tr>\n      <th>119389</th>\n      <td>City Hotel</td>\n      <td>0</td>\n      <td>205</td>\n      <td>2017</td>\n      <td>August</td>\n      <td>35</td>\n      <td>29</td>\n      <td>2</td>\n      <td>7</td>\n      <td>2</td>\n      <td>...</td>\n      <td>0</td>\n      <td>No Deposit</td>\n      <td>9.0</td>\n      <td>0</td>\n      <td>Transient</td>\n      <td>151.20</td>\n      <td>0</td>\n      <td>2</td>\n      <td>Check-Out</td>\n      <td>2017-09-07</td>\n    </tr>\n  </tbody>\n</table>\n<p>86632 rows × 31 columns</p>\n</div>"
     },
     "execution_count": 17,
     "metadata": {},
     "output_type": "execute_result"
    }
   ],
   "source": [
    "data.head()"
   ],
   "metadata": {
    "collapsed": false,
    "ExecuteTime": {
     "end_time": "2024-10-15T18:29:57.402051400Z",
     "start_time": "2024-10-15T18:29:57.330447300Z"
    }
   },
   "id": "e93b8e0eb21625a1"
  },
  {
   "cell_type": "code",
   "execution_count": 16,
   "outputs": [
    {
     "data": {
      "text/plain": "              is_canceled  lead_time  arrival_date_year  \\\nhotel                                                     \nCity Hotel       0.302068  78.044475        2016.255142   \nResort Hotel     0.237087  83.858950        2016.144533   \n\n              arrival_date_week_number  arrival_date_day_of_month  \\\nhotel                                                               \nCity Hotel                   26.628269                  15.758413   \nResort Hotel                 27.126998                  15.911673   \n\n              stays_in_weekend_nights  stays_in_week_nights    adults  \\\nhotel                                                                   \nCity Hotel                   0.874531              2.281179  1.882732   \nResort Hotel                 1.227829              3.211694  1.877110   \n\n              children    babies  is_repeated_guest  previous_cancellations  \\\nhotel                                                                         \nCity Hotel    0.132539  0.007334           0.029072                0.035859   \nResort Hotel  0.150010  0.016433           0.047721                0.022208   \n\n              previous_bookings_not_canceled  booking_changes       agent  \\\nhotel                                                                       \nCity Hotel                          0.192153         0.241360   20.401557   \nResort Hotel                        0.172219         0.310559  176.602126   \n\n              days_in_waiting_list         adr  required_car_parking_spaces  \\\nhotel                                                                         \nCity Hotel                1.022699  111.755903                     0.035727   \nResort Hotel              0.320205  100.126164                     0.162037   \n\n              total_of_special_requests  \nhotel                                    \nCity Hotel                     0.712241  \nResort Hotel                   0.681194  ",
      "text/html": "<div>\n<style scoped>\n    .dataframe tbody tr th:only-of-type {\n        vertical-align: middle;\n    }\n\n    .dataframe tbody tr th {\n        vertical-align: top;\n    }\n\n    .dataframe thead th {\n        text-align: right;\n    }\n</style>\n<table border=\"1\" class=\"dataframe\">\n  <thead>\n    <tr style=\"text-align: right;\">\n      <th></th>\n      <th>is_canceled</th>\n      <th>lead_time</th>\n      <th>arrival_date_year</th>\n      <th>arrival_date_week_number</th>\n      <th>arrival_date_day_of_month</th>\n      <th>stays_in_weekend_nights</th>\n      <th>stays_in_week_nights</th>\n      <th>adults</th>\n      <th>children</th>\n      <th>babies</th>\n      <th>is_repeated_guest</th>\n      <th>previous_cancellations</th>\n      <th>previous_bookings_not_canceled</th>\n      <th>booking_changes</th>\n      <th>agent</th>\n      <th>days_in_waiting_list</th>\n      <th>adr</th>\n      <th>required_car_parking_spaces</th>\n      <th>total_of_special_requests</th>\n    </tr>\n    <tr>\n      <th>hotel</th>\n      <th></th>\n      <th></th>\n      <th></th>\n      <th></th>\n      <th></th>\n      <th></th>\n      <th></th>\n      <th></th>\n      <th></th>\n      <th></th>\n      <th></th>\n      <th></th>\n      <th></th>\n      <th></th>\n      <th></th>\n      <th></th>\n      <th></th>\n      <th></th>\n      <th></th>\n    </tr>\n  </thead>\n  <tbody>\n    <tr>\n      <th>City Hotel</th>\n      <td>0.302068</td>\n      <td>78.044475</td>\n      <td>2016.255142</td>\n      <td>26.628269</td>\n      <td>15.758413</td>\n      <td>0.874531</td>\n      <td>2.281179</td>\n      <td>1.882732</td>\n      <td>0.132539</td>\n      <td>0.007334</td>\n      <td>0.029072</td>\n      <td>0.035859</td>\n      <td>0.192153</td>\n      <td>0.241360</td>\n      <td>20.401557</td>\n      <td>1.022699</td>\n      <td>111.755903</td>\n      <td>0.035727</td>\n      <td>0.712241</td>\n    </tr>\n    <tr>\n      <th>Resort Hotel</th>\n      <td>0.237087</td>\n      <td>83.858950</td>\n      <td>2016.144533</td>\n      <td>27.126998</td>\n      <td>15.911673</td>\n      <td>1.227829</td>\n      <td>3.211694</td>\n      <td>1.877110</td>\n      <td>0.150010</td>\n      <td>0.016433</td>\n      <td>0.047721</td>\n      <td>0.022208</td>\n      <td>0.172219</td>\n      <td>0.310559</td>\n      <td>176.602126</td>\n      <td>0.320205</td>\n      <td>100.126164</td>\n      <td>0.162037</td>\n      <td>0.681194</td>\n    </tr>\n  </tbody>\n</table>\n</div>"
     },
     "execution_count": 16,
     "metadata": {},
     "output_type": "execute_result"
    }
   ],
   "source": [
    "# test\n",
    "data.groupby('hotel')[data.describe().columns].mean()"
   ],
   "metadata": {
    "collapsed": false,
    "ExecuteTime": {
     "start_time": "2024-10-15T18:24:42.538885600Z"
    }
   },
   "id": "c503a5ec0348e6e7"
  }
 ],
 "metadata": {
  "kernelspec": {
   "display_name": "Python 3",
   "language": "python",
   "name": "python3"
  },
  "language_info": {
   "codemirror_mode": {
    "name": "ipython",
    "version": 2
   },
   "file_extension": ".py",
   "mimetype": "text/x-python",
   "name": "python",
   "nbconvert_exporter": "python",
   "pygments_lexer": "ipython2",
   "version": "2.7.6"
  }
 },
 "nbformat": 4,
 "nbformat_minor": 5
}
